{
 "cells": [
  {
   "cell_type": "markdown",
   "id": "29ec43e6",
   "metadata": {},
   "source": [
    "## TOPIC: WORLD HAPPINESS REPORT Dataset:\n",
    "The World Happiness Report tracks six factors to measure global happiness — life expectancy, economics, social support, absence of corruption, freedom, and generosity.\n",
    "Use the data set and skill to answer the following questions\n",
    "- Which country is the happiest in the world?\n",
    "- What are the most important contributing factors to a nation’s happiness?\n",
    "- Is overall happiness increasing or decreasing?"
   ]
  },
  {
   "cell_type": "code",
   "execution_count": 300,
   "id": "e8f67bc1",
   "metadata": {},
   "outputs": [],
   "source": [
    "import pandas as pd\n",
    "import numpy as np\n",
    "import matplotlib.pyplot as plt\n",
    "import seaborn as sns"
   ]
  },
  {
   "cell_type": "markdown",
   "id": "c950c41b",
   "metadata": {},
   "source": [
    "## Making a copy of the dataset"
   ]
  },
  {
   "cell_type": "code",
   "execution_count": 424,
   "id": "6d5dc527",
   "metadata": {},
   "outputs": [],
   "source": [
    "df_2015_r = pd.read_csv('2015.csv')\n",
    "df_2015 = df_2015_r.copy()"
   ]
  },
  {
   "cell_type": "code",
   "execution_count": 425,
   "id": "4cc6ac1f",
   "metadata": {},
   "outputs": [],
   "source": [
    "df_2016_r = pd.read_csv('2016.csv')\n",
    "df_2016 = df_2016_r.copy()"
   ]
  },
  {
   "cell_type": "code",
   "execution_count": 426,
   "id": "492e578d",
   "metadata": {},
   "outputs": [],
   "source": [
    "df_2017_r = pd.read_csv('2017.csv')\n",
    "df_2017 = df_2017_r.copy()"
   ]
  },
  {
   "cell_type": "code",
   "execution_count": 427,
   "id": "d5308a91",
   "metadata": {},
   "outputs": [],
   "source": [
    "df_2018_r = pd.read_csv('2018.csv')\n",
    "df_2018 = df_2018_r.copy()"
   ]
  },
  {
   "cell_type": "code",
   "execution_count": 428,
   "id": "edfef349",
   "metadata": {},
   "outputs": [],
   "source": [
    "df_2019_r = pd.read_csv('2019.csv')\n",
    "df_2019 = df_2019_r.copy()"
   ]
  },
  {
   "cell_type": "markdown",
   "id": "1974c478",
   "metadata": {},
   "source": [
    "## Renaming the columns"
   ]
  },
  {
   "cell_type": "markdown",
   "id": "1f44d551",
   "metadata": {},
   "source": [
    "####  <span style='color:blue'>The similar columns include: Country, Happiness_Rank, Happiness_Score, Economy(GDP_per_Capita), Health_(Life _Expectancy), Freedom, Generosity and Year </span>"
   ]
  },
  {
   "cell_type": "markdown",
   "id": "4f002c99",
   "metadata": {},
   "source": [
    "### Analysing Year 2015"
   ]
  },
  {
   "cell_type": "code",
   "execution_count": 429,
   "id": "9273e786",
   "metadata": {},
   "outputs": [],
   "source": [
    "df_2015.rename(columns = {'Happiness Rank':'Happiness_Rank', 'Happiness Score':'Happiness_Score',\n",
    "                            'Standard Error': 'Standard_Error', 'Economy (GDP per Capita)': 'Economy(GDP_per_Capita)',\n",
    "                            'Health (Life Expectancy)':'Health_(Life_Expectancy)',\n",
    "                            'Trust (Government Corruption)': 'Trust_Govt_Corruption', 'Dystopia Residual':'Dystopia_Residual'}, \n",
    "                            inplace = True)\n"
   ]
  },
  {
   "cell_type": "code",
   "execution_count": 430,
   "id": "641c97f1",
   "metadata": {},
   "outputs": [],
   "source": [
    "#creating a  year column\n",
    "df_2015['Year'] = 2015"
   ]
  },
  {
   "cell_type": "code",
   "execution_count": 431,
   "id": "26ddb547",
   "metadata": {
    "scrolled": true
   },
   "outputs": [
    {
     "data": {
      "text/html": [
       "<div>\n",
       "<style scoped>\n",
       "    .dataframe tbody tr th:only-of-type {\n",
       "        vertical-align: middle;\n",
       "    }\n",
       "\n",
       "    .dataframe tbody tr th {\n",
       "        vertical-align: top;\n",
       "    }\n",
       "\n",
       "    .dataframe thead th {\n",
       "        text-align: right;\n",
       "    }\n",
       "</style>\n",
       "<table border=\"1\" class=\"dataframe\">\n",
       "  <thead>\n",
       "    <tr style=\"text-align: right;\">\n",
       "      <th></th>\n",
       "      <th>Country</th>\n",
       "      <th>Region</th>\n",
       "      <th>Happiness_Rank</th>\n",
       "      <th>Happiness_Score</th>\n",
       "      <th>Standard_Error</th>\n",
       "      <th>Economy(GDP_per_Capita)</th>\n",
       "      <th>Family</th>\n",
       "      <th>Health_(Life_Expectancy)</th>\n",
       "      <th>Freedom</th>\n",
       "      <th>Trust_Govt_Corruption</th>\n",
       "      <th>Generosity</th>\n",
       "      <th>Dystopia_Residual</th>\n",
       "      <th>Year</th>\n",
       "    </tr>\n",
       "  </thead>\n",
       "  <tbody>\n",
       "    <tr>\n",
       "      <th>97</th>\n",
       "      <td>Dominican Republic</td>\n",
       "      <td>Latin America and Caribbean</td>\n",
       "      <td>98</td>\n",
       "      <td>4.885</td>\n",
       "      <td>0.07446</td>\n",
       "      <td>0.89537</td>\n",
       "      <td>1.17202</td>\n",
       "      <td>0.66825</td>\n",
       "      <td>0.57672</td>\n",
       "      <td>0.14234</td>\n",
       "      <td>0.21684</td>\n",
       "      <td>1.21305</td>\n",
       "      <td>2015</td>\n",
       "    </tr>\n",
       "  </tbody>\n",
       "</table>\n",
       "</div>"
      ],
      "text/plain": [
       "               Country                       Region  Happiness_Rank  \\\n",
       "97  Dominican Republic  Latin America and Caribbean              98   \n",
       "\n",
       "    Happiness_Score  Standard_Error  Economy(GDP_per_Capita)   Family  \\\n",
       "97            4.885         0.07446                  0.89537  1.17202   \n",
       "\n",
       "    Health_(Life_Expectancy)  Freedom  Trust_Govt_Corruption  Generosity  \\\n",
       "97                   0.66825  0.57672                0.14234     0.21684   \n",
       "\n",
       "    Dystopia_Residual  Year  \n",
       "97            1.21305  2015  "
      ]
     },
     "execution_count": 431,
     "metadata": {},
     "output_type": "execute_result"
    }
   ],
   "source": [
    "#sample after renaming\n",
    "df_2015.sample()"
   ]
  },
  {
   "cell_type": "code",
   "execution_count": 432,
   "id": "9f44c2fb",
   "metadata": {},
   "outputs": [
    {
     "data": {
      "text/html": [
       "<div>\n",
       "<style scoped>\n",
       "    .dataframe tbody tr th:only-of-type {\n",
       "        vertical-align: middle;\n",
       "    }\n",
       "\n",
       "    .dataframe tbody tr th {\n",
       "        vertical-align: top;\n",
       "    }\n",
       "\n",
       "    .dataframe thead th {\n",
       "        text-align: right;\n",
       "    }\n",
       "</style>\n",
       "<table border=\"1\" class=\"dataframe\">\n",
       "  <thead>\n",
       "    <tr style=\"text-align: right;\">\n",
       "      <th></th>\n",
       "      <th>Country</th>\n",
       "      <th>Happiness_Rank</th>\n",
       "      <th>Happiness_Score</th>\n",
       "      <th>Economy(GDP_per_Capita)</th>\n",
       "      <th>Health_(Life_Expectancy)</th>\n",
       "      <th>Freedom</th>\n",
       "      <th>Generosity</th>\n",
       "      <th>Year</th>\n",
       "    </tr>\n",
       "  </thead>\n",
       "  <tbody>\n",
       "    <tr>\n",
       "      <th>0</th>\n",
       "      <td>Switzerland</td>\n",
       "      <td>1</td>\n",
       "      <td>7.587</td>\n",
       "      <td>1.39651</td>\n",
       "      <td>0.94143</td>\n",
       "      <td>0.66557</td>\n",
       "      <td>0.29678</td>\n",
       "      <td>2015</td>\n",
       "    </tr>\n",
       "    <tr>\n",
       "      <th>1</th>\n",
       "      <td>Iceland</td>\n",
       "      <td>2</td>\n",
       "      <td>7.561</td>\n",
       "      <td>1.30232</td>\n",
       "      <td>0.94784</td>\n",
       "      <td>0.62877</td>\n",
       "      <td>0.43630</td>\n",
       "      <td>2015</td>\n",
       "    </tr>\n",
       "  </tbody>\n",
       "</table>\n",
       "</div>"
      ],
      "text/plain": [
       "       Country  Happiness_Rank  Happiness_Score  Economy(GDP_per_Capita)  \\\n",
       "0  Switzerland               1            7.587                  1.39651   \n",
       "1      Iceland               2            7.561                  1.30232   \n",
       "\n",
       "   Health_(Life_Expectancy)  Freedom  Generosity  Year  \n",
       "0                   0.94143  0.66557     0.29678  2015  \n",
       "1                   0.94784  0.62877     0.43630  2015  "
      ]
     },
     "execution_count": 432,
     "metadata": {},
     "output_type": "execute_result"
    }
   ],
   "source": [
    "#locating similar columns\n",
    "new_2015 = df_2015.iloc[:, [0,2,3,5,7,8,10,12]]\n",
    "new_2015.head(2)"
   ]
  },
  {
   "cell_type": "markdown",
   "id": "9fd9b7bb",
   "metadata": {},
   "source": [
    "### Analysing Year 2016"
   ]
  },
  {
   "cell_type": "code",
   "execution_count": 433,
   "id": "b92339ab",
   "metadata": {},
   "outputs": [],
   "source": [
    "df_2016.rename(columns = {'Happiness Rank':'Happiness_Rank', 'Happiness Score':'Happiness_Score',\n",
    "                                      'Lower Confidence Interval': 'Lower_Confidence_Interval','Upper Confidence Interval':'Upper_Confidence_Interval',\n",
    "                                        'Economy (GDP per Capita)': 'Economy(GDP_per_Capita)', 'Health (Life Expectancy)':'Health_(Life_Expectancy)',\n",
    "                                     'Trust (Government Corruption)': 'Trust_Govt_Corruption', 'Dystopia Residual':'Dystopia_Residual'}, \n",
    "                                      inplace = True)\n"
   ]
  },
  {
   "cell_type": "code",
   "execution_count": 434,
   "id": "ebb19012",
   "metadata": {},
   "outputs": [],
   "source": [
    "#creating a  year column\n",
    "df_2016['Year'] = 2016"
   ]
  },
  {
   "cell_type": "code",
   "execution_count": 435,
   "id": "d7baf5f1",
   "metadata": {
    "scrolled": true
   },
   "outputs": [
    {
     "data": {
      "text/html": [
       "<div>\n",
       "<style scoped>\n",
       "    .dataframe tbody tr th:only-of-type {\n",
       "        vertical-align: middle;\n",
       "    }\n",
       "\n",
       "    .dataframe tbody tr th {\n",
       "        vertical-align: top;\n",
       "    }\n",
       "\n",
       "    .dataframe thead th {\n",
       "        text-align: right;\n",
       "    }\n",
       "</style>\n",
       "<table border=\"1\" class=\"dataframe\">\n",
       "  <thead>\n",
       "    <tr style=\"text-align: right;\">\n",
       "      <th></th>\n",
       "      <th>Country</th>\n",
       "      <th>Region</th>\n",
       "      <th>Happiness_Rank</th>\n",
       "      <th>Happiness_Score</th>\n",
       "      <th>Lower_Confidence_Interval</th>\n",
       "      <th>Upper_Confidence_Interval</th>\n",
       "      <th>Economy(GDP_per_Capita)</th>\n",
       "      <th>Family</th>\n",
       "      <th>Health_(Life_Expectancy)</th>\n",
       "      <th>Freedom</th>\n",
       "      <th>Trust_Govt_Corruption</th>\n",
       "      <th>Generosity</th>\n",
       "      <th>Dystopia_Residual</th>\n",
       "      <th>Year</th>\n",
       "    </tr>\n",
       "  </thead>\n",
       "  <tbody>\n",
       "    <tr>\n",
       "      <th>24</th>\n",
       "      <td>Panama</td>\n",
       "      <td>Latin America and Caribbean</td>\n",
       "      <td>25</td>\n",
       "      <td>6.701</td>\n",
       "      <td>6.601</td>\n",
       "      <td>6.801</td>\n",
       "      <td>1.18306</td>\n",
       "      <td>0.98912</td>\n",
       "      <td>0.70835</td>\n",
       "      <td>0.48927</td>\n",
       "      <td>0.08423</td>\n",
       "      <td>0.2418</td>\n",
       "      <td>3.00559</td>\n",
       "      <td>2016</td>\n",
       "    </tr>\n",
       "  </tbody>\n",
       "</table>\n",
       "</div>"
      ],
      "text/plain": [
       "   Country                       Region  Happiness_Rank  Happiness_Score  \\\n",
       "24  Panama  Latin America and Caribbean              25            6.701   \n",
       "\n",
       "    Lower_Confidence_Interval  Upper_Confidence_Interval  \\\n",
       "24                      6.601                      6.801   \n",
       "\n",
       "    Economy(GDP_per_Capita)   Family  Health_(Life_Expectancy)  Freedom  \\\n",
       "24                  1.18306  0.98912                   0.70835  0.48927   \n",
       "\n",
       "    Trust_Govt_Corruption  Generosity  Dystopia_Residual  Year  \n",
       "24                0.08423      0.2418            3.00559  2016  "
      ]
     },
     "execution_count": 435,
     "metadata": {},
     "output_type": "execute_result"
    }
   ],
   "source": [
    "#sample after renaming\n",
    "df_2016.sample()"
   ]
  },
  {
   "cell_type": "code",
   "execution_count": 436,
   "id": "8039f90d",
   "metadata": {},
   "outputs": [
    {
     "data": {
      "text/html": [
       "<div>\n",
       "<style scoped>\n",
       "    .dataframe tbody tr th:only-of-type {\n",
       "        vertical-align: middle;\n",
       "    }\n",
       "\n",
       "    .dataframe tbody tr th {\n",
       "        vertical-align: top;\n",
       "    }\n",
       "\n",
       "    .dataframe thead th {\n",
       "        text-align: right;\n",
       "    }\n",
       "</style>\n",
       "<table border=\"1\" class=\"dataframe\">\n",
       "  <thead>\n",
       "    <tr style=\"text-align: right;\">\n",
       "      <th></th>\n",
       "      <th>Country</th>\n",
       "      <th>Happiness_Rank</th>\n",
       "      <th>Happiness_Score</th>\n",
       "      <th>Economy(GDP_per_Capita)</th>\n",
       "      <th>Health_(Life_Expectancy)</th>\n",
       "      <th>Freedom</th>\n",
       "      <th>Generosity</th>\n",
       "      <th>Year</th>\n",
       "    </tr>\n",
       "  </thead>\n",
       "  <tbody>\n",
       "    <tr>\n",
       "      <th>0</th>\n",
       "      <td>Denmark</td>\n",
       "      <td>1</td>\n",
       "      <td>7.526</td>\n",
       "      <td>1.44178</td>\n",
       "      <td>0.79504</td>\n",
       "      <td>0.57941</td>\n",
       "      <td>0.36171</td>\n",
       "      <td>2016</td>\n",
       "    </tr>\n",
       "    <tr>\n",
       "      <th>1</th>\n",
       "      <td>Switzerland</td>\n",
       "      <td>2</td>\n",
       "      <td>7.509</td>\n",
       "      <td>1.52733</td>\n",
       "      <td>0.86303</td>\n",
       "      <td>0.58557</td>\n",
       "      <td>0.28083</td>\n",
       "      <td>2016</td>\n",
       "    </tr>\n",
       "  </tbody>\n",
       "</table>\n",
       "</div>"
      ],
      "text/plain": [
       "       Country  Happiness_Rank  Happiness_Score  Economy(GDP_per_Capita)  \\\n",
       "0      Denmark               1            7.526                  1.44178   \n",
       "1  Switzerland               2            7.509                  1.52733   \n",
       "\n",
       "   Health_(Life_Expectancy)  Freedom  Generosity  Year  \n",
       "0                   0.79504  0.57941     0.36171  2016  \n",
       "1                   0.86303  0.58557     0.28083  2016  "
      ]
     },
     "execution_count": 436,
     "metadata": {},
     "output_type": "execute_result"
    }
   ],
   "source": [
    "#locating similar columns\n",
    "new_2016 = df_2016.iloc[:, [0,2,3,6,8,9,11,13]]\n",
    "new_2016.head(2)"
   ]
  },
  {
   "cell_type": "markdown",
   "id": "20edb221",
   "metadata": {},
   "source": [
    "### Analysing Year 2017"
   ]
  },
  {
   "cell_type": "code",
   "execution_count": 437,
   "id": "0d04349d",
   "metadata": {},
   "outputs": [],
   "source": [
    "df_2017.rename(columns = {'Happiness.Rank':'Happiness_Rank', 'Happiness.Score':'Happiness_Score',\n",
    "                                      'Whisker.high': 'Whisker_high','Whisker.low':'Whisker_low',\n",
    "                                        'Economy..GDP.per.Capita.': 'Economy(GDP_per_Capita)', 'Health..Life.Expectancy.':'Health_(Life_Expectancy)',\n",
    "                                     'Trust..Government.Corruption': 'Trust_Govt_Corruption', 'Dystopia.Residual':'Dystopia_Residual'}, \n",
    "                                      inplace = True)\n"
   ]
  },
  {
   "cell_type": "code",
   "execution_count": 438,
   "id": "a2b71fd5",
   "metadata": {},
   "outputs": [],
   "source": [
    "#creating a  year column\n",
    "df_2017['Year'] = 2017"
   ]
  },
  {
   "cell_type": "code",
   "execution_count": 439,
   "id": "7d5894cd",
   "metadata": {
    "scrolled": true
   },
   "outputs": [
    {
     "data": {
      "text/html": [
       "<div>\n",
       "<style scoped>\n",
       "    .dataframe tbody tr th:only-of-type {\n",
       "        vertical-align: middle;\n",
       "    }\n",
       "\n",
       "    .dataframe tbody tr th {\n",
       "        vertical-align: top;\n",
       "    }\n",
       "\n",
       "    .dataframe thead th {\n",
       "        text-align: right;\n",
       "    }\n",
       "</style>\n",
       "<table border=\"1\" class=\"dataframe\">\n",
       "  <thead>\n",
       "    <tr style=\"text-align: right;\">\n",
       "      <th></th>\n",
       "      <th>Country</th>\n",
       "      <th>Happiness_Rank</th>\n",
       "      <th>Happiness_Score</th>\n",
       "      <th>Whisker_high</th>\n",
       "      <th>Whisker_low</th>\n",
       "      <th>Economy(GDP_per_Capita)</th>\n",
       "      <th>Family</th>\n",
       "      <th>Health_(Life_Expectancy)</th>\n",
       "      <th>Freedom</th>\n",
       "      <th>Generosity</th>\n",
       "      <th>Trust..Government.Corruption.</th>\n",
       "      <th>Dystopia_Residual</th>\n",
       "      <th>Year</th>\n",
       "    </tr>\n",
       "  </thead>\n",
       "  <tbody>\n",
       "    <tr>\n",
       "      <th>31</th>\n",
       "      <td>Thailand</td>\n",
       "      <td>32</td>\n",
       "      <td>6.424</td>\n",
       "      <td>6.509117</td>\n",
       "      <td>6.338883</td>\n",
       "      <td>1.127869</td>\n",
       "      <td>1.425792</td>\n",
       "      <td>0.647239</td>\n",
       "      <td>0.580201</td>\n",
       "      <td>0.572123</td>\n",
       "      <td>0.031613</td>\n",
       "      <td>2.039508</td>\n",
       "      <td>2017</td>\n",
       "    </tr>\n",
       "  </tbody>\n",
       "</table>\n",
       "</div>"
      ],
      "text/plain": [
       "     Country  Happiness_Rank  Happiness_Score  Whisker_high  Whisker_low  \\\n",
       "31  Thailand              32            6.424      6.509117     6.338883   \n",
       "\n",
       "    Economy(GDP_per_Capita)    Family  Health_(Life_Expectancy)   Freedom  \\\n",
       "31                 1.127869  1.425792                  0.647239  0.580201   \n",
       "\n",
       "    Generosity  Trust..Government.Corruption.  Dystopia_Residual  Year  \n",
       "31    0.572123                       0.031613           2.039508  2017  "
      ]
     },
     "execution_count": 439,
     "metadata": {},
     "output_type": "execute_result"
    }
   ],
   "source": [
    "#sample after renaming\n",
    "df_2017.sample()"
   ]
  },
  {
   "cell_type": "code",
   "execution_count": 441,
   "id": "d0c7163e",
   "metadata": {},
   "outputs": [
    {
     "data": {
      "text/html": [
       "<div>\n",
       "<style scoped>\n",
       "    .dataframe tbody tr th:only-of-type {\n",
       "        vertical-align: middle;\n",
       "    }\n",
       "\n",
       "    .dataframe tbody tr th {\n",
       "        vertical-align: top;\n",
       "    }\n",
       "\n",
       "    .dataframe thead th {\n",
       "        text-align: right;\n",
       "    }\n",
       "</style>\n",
       "<table border=\"1\" class=\"dataframe\">\n",
       "  <thead>\n",
       "    <tr style=\"text-align: right;\">\n",
       "      <th></th>\n",
       "      <th>Country</th>\n",
       "      <th>Happiness_Rank</th>\n",
       "      <th>Happiness_Score</th>\n",
       "      <th>Economy(GDP_per_Capita)</th>\n",
       "      <th>Health_(Life_Expectancy)</th>\n",
       "      <th>Freedom</th>\n",
       "      <th>Generosity</th>\n",
       "      <th>Year</th>\n",
       "    </tr>\n",
       "  </thead>\n",
       "  <tbody>\n",
       "    <tr>\n",
       "      <th>0</th>\n",
       "      <td>Norway</td>\n",
       "      <td>1</td>\n",
       "      <td>7.537</td>\n",
       "      <td>1.616463</td>\n",
       "      <td>0.796667</td>\n",
       "      <td>0.635423</td>\n",
       "      <td>0.362012</td>\n",
       "      <td>2017</td>\n",
       "    </tr>\n",
       "    <tr>\n",
       "      <th>1</th>\n",
       "      <td>Denmark</td>\n",
       "      <td>2</td>\n",
       "      <td>7.522</td>\n",
       "      <td>1.482383</td>\n",
       "      <td>0.792566</td>\n",
       "      <td>0.626007</td>\n",
       "      <td>0.355280</td>\n",
       "      <td>2017</td>\n",
       "    </tr>\n",
       "  </tbody>\n",
       "</table>\n",
       "</div>"
      ],
      "text/plain": [
       "   Country  Happiness_Rank  Happiness_Score  Economy(GDP_per_Capita)  \\\n",
       "0   Norway               1            7.537                 1.616463   \n",
       "1  Denmark               2            7.522                 1.482383   \n",
       "\n",
       "   Health_(Life_Expectancy)   Freedom  Generosity  Year  \n",
       "0                  0.796667  0.635423    0.362012  2017  \n",
       "1                  0.792566  0.626007    0.355280  2017  "
      ]
     },
     "execution_count": 441,
     "metadata": {},
     "output_type": "execute_result"
    }
   ],
   "source": [
    "#locating similar columns\n",
    "new_2017 = df_2017.iloc[:, [0,1,2,5,7,8,9,12]]\n",
    "new_2017.head(2)"
   ]
  },
  {
   "cell_type": "markdown",
   "id": "d789b738",
   "metadata": {},
   "source": [
    "### Analysing Year 2018"
   ]
  },
  {
   "cell_type": "code",
   "execution_count": 442,
   "id": "6642b145",
   "metadata": {},
   "outputs": [],
   "source": [
    "df_2018.rename(columns = {'Overall rank':'Happiness_Rank', 'Country or region': 'Country','Score':'Happiness_Score',\n",
    "                            'GDP per capita':'Economy(GDP_per_Capita)', 'Social support': 'Social_support', \n",
    "                          'Healthy life expectancy':'Health_(Life_Expectancy)',\n",
    "                            'Freedom to make life choices': 'Freedom', 'Perceptions of corruption':'Perceptions_of_corruption'}, \n",
    "                            inplace = True)"
   ]
  },
  {
   "cell_type": "code",
   "execution_count": 443,
   "id": "f5d30975",
   "metadata": {},
   "outputs": [],
   "source": [
    "#creating a  year column\n",
    "df_2018['Year'] = 2018"
   ]
  },
  {
   "cell_type": "code",
   "execution_count": 444,
   "id": "eb541c58",
   "metadata": {
    "scrolled": true
   },
   "outputs": [
    {
     "data": {
      "text/html": [
       "<div>\n",
       "<style scoped>\n",
       "    .dataframe tbody tr th:only-of-type {\n",
       "        vertical-align: middle;\n",
       "    }\n",
       "\n",
       "    .dataframe tbody tr th {\n",
       "        vertical-align: top;\n",
       "    }\n",
       "\n",
       "    .dataframe thead th {\n",
       "        text-align: right;\n",
       "    }\n",
       "</style>\n",
       "<table border=\"1\" class=\"dataframe\">\n",
       "  <thead>\n",
       "    <tr style=\"text-align: right;\">\n",
       "      <th></th>\n",
       "      <th>Happiness_Rank</th>\n",
       "      <th>Country</th>\n",
       "      <th>Happiness_Score</th>\n",
       "      <th>Economy(GDP_per_Capita)</th>\n",
       "      <th>Social_support</th>\n",
       "      <th>Health_(Life_Expectancy)</th>\n",
       "      <th>Freedom</th>\n",
       "      <th>Generosity</th>\n",
       "      <th>Perceptions_of_corruption</th>\n",
       "      <th>Year</th>\n",
       "    </tr>\n",
       "  </thead>\n",
       "  <tbody>\n",
       "    <tr>\n",
       "      <th>67</th>\n",
       "      <td>68</td>\n",
       "      <td>Turkmenistan</td>\n",
       "      <td>5.636</td>\n",
       "      <td>1.016</td>\n",
       "      <td>1.533</td>\n",
       "      <td>0.517</td>\n",
       "      <td>0.417</td>\n",
       "      <td>0.199</td>\n",
       "      <td>0.037</td>\n",
       "      <td>2018</td>\n",
       "    </tr>\n",
       "  </tbody>\n",
       "</table>\n",
       "</div>"
      ],
      "text/plain": [
       "    Happiness_Rank       Country  Happiness_Score  Economy(GDP_per_Capita)  \\\n",
       "67              68  Turkmenistan            5.636                    1.016   \n",
       "\n",
       "    Social_support  Health_(Life_Expectancy)  Freedom  Generosity  \\\n",
       "67           1.533                     0.517    0.417       0.199   \n",
       "\n",
       "    Perceptions_of_corruption  Year  \n",
       "67                      0.037  2018  "
      ]
     },
     "execution_count": 444,
     "metadata": {},
     "output_type": "execute_result"
    }
   ],
   "source": [
    "#sample after renaming\n",
    "df_2018.sample()"
   ]
  },
  {
   "cell_type": "code",
   "execution_count": 445,
   "id": "e49d0b89",
   "metadata": {},
   "outputs": [
    {
     "data": {
      "text/html": [
       "<div>\n",
       "<style scoped>\n",
       "    .dataframe tbody tr th:only-of-type {\n",
       "        vertical-align: middle;\n",
       "    }\n",
       "\n",
       "    .dataframe tbody tr th {\n",
       "        vertical-align: top;\n",
       "    }\n",
       "\n",
       "    .dataframe thead th {\n",
       "        text-align: right;\n",
       "    }\n",
       "</style>\n",
       "<table border=\"1\" class=\"dataframe\">\n",
       "  <thead>\n",
       "    <tr style=\"text-align: right;\">\n",
       "      <th></th>\n",
       "      <th>Happiness_Rank</th>\n",
       "      <th>Country</th>\n",
       "      <th>Happiness_Score</th>\n",
       "      <th>Economy(GDP_per_Capita)</th>\n",
       "      <th>Health_(Life_Expectancy)</th>\n",
       "      <th>Freedom</th>\n",
       "      <th>Generosity</th>\n",
       "      <th>Year</th>\n",
       "    </tr>\n",
       "  </thead>\n",
       "  <tbody>\n",
       "    <tr>\n",
       "      <th>0</th>\n",
       "      <td>1</td>\n",
       "      <td>Finland</td>\n",
       "      <td>7.632</td>\n",
       "      <td>1.305</td>\n",
       "      <td>0.874</td>\n",
       "      <td>0.681</td>\n",
       "      <td>0.202</td>\n",
       "      <td>2018</td>\n",
       "    </tr>\n",
       "    <tr>\n",
       "      <th>1</th>\n",
       "      <td>2</td>\n",
       "      <td>Norway</td>\n",
       "      <td>7.594</td>\n",
       "      <td>1.456</td>\n",
       "      <td>0.861</td>\n",
       "      <td>0.686</td>\n",
       "      <td>0.286</td>\n",
       "      <td>2018</td>\n",
       "    </tr>\n",
       "  </tbody>\n",
       "</table>\n",
       "</div>"
      ],
      "text/plain": [
       "   Happiness_Rank  Country  Happiness_Score  Economy(GDP_per_Capita)  \\\n",
       "0               1  Finland            7.632                    1.305   \n",
       "1               2   Norway            7.594                    1.456   \n",
       "\n",
       "   Health_(Life_Expectancy)  Freedom  Generosity  Year  \n",
       "0                     0.874    0.681       0.202  2018  \n",
       "1                     0.861    0.686       0.286  2018  "
      ]
     },
     "execution_count": 445,
     "metadata": {},
     "output_type": "execute_result"
    }
   ],
   "source": [
    "#locating similar columns\n",
    "new_2018 = df_2018.iloc[:, [0,1,2,3,5, 6,7,9]]\n",
    "new_2018.head(2)"
   ]
  },
  {
   "cell_type": "markdown",
   "id": "e4d35526",
   "metadata": {},
   "source": [
    "### Analysing Year 2019"
   ]
  },
  {
   "cell_type": "code",
   "execution_count": 446,
   "id": "51c3bc95",
   "metadata": {},
   "outputs": [],
   "source": [
    "df_2019.rename(columns = {'Overall rank':'Happiness_Rank', 'Country or region': 'Country','Score':'Happiness_Score',\n",
    "                            'GDP per capita':'Economy(GDP_per_Capita)', 'Social support': 'Social_support', \n",
    "                          'Healthy life expectancy':'Health_(Life_Expectancy)',\n",
    "                            'Freedom to make life choices': 'Freedom', 'Perceptions of corruption':'Perceptions_of_corruption'}, \n",
    "                            inplace = True)\n"
   ]
  },
  {
   "cell_type": "code",
   "execution_count": 447,
   "id": "621e8219",
   "metadata": {},
   "outputs": [],
   "source": [
    "#creating a  year column\n",
    "df_2019['Year'] = 2019"
   ]
  },
  {
   "cell_type": "code",
   "execution_count": 448,
   "id": "c2bcbda8",
   "metadata": {
    "scrolled": true
   },
   "outputs": [
    {
     "data": {
      "text/html": [
       "<div>\n",
       "<style scoped>\n",
       "    .dataframe tbody tr th:only-of-type {\n",
       "        vertical-align: middle;\n",
       "    }\n",
       "\n",
       "    .dataframe tbody tr th {\n",
       "        vertical-align: top;\n",
       "    }\n",
       "\n",
       "    .dataframe thead th {\n",
       "        text-align: right;\n",
       "    }\n",
       "</style>\n",
       "<table border=\"1\" class=\"dataframe\">\n",
       "  <thead>\n",
       "    <tr style=\"text-align: right;\">\n",
       "      <th></th>\n",
       "      <th>Happiness_Rank</th>\n",
       "      <th>Country</th>\n",
       "      <th>Happiness_Score</th>\n",
       "      <th>Economy(GDP_per_Capita)</th>\n",
       "      <th>Social_support</th>\n",
       "      <th>Health_(Life_Expectancy)</th>\n",
       "      <th>Freedom</th>\n",
       "      <th>Generosity</th>\n",
       "      <th>Perceptions_of_corruption</th>\n",
       "      <th>Year</th>\n",
       "    </tr>\n",
       "  </thead>\n",
       "  <tbody>\n",
       "    <tr>\n",
       "      <th>132</th>\n",
       "      <td>133</td>\n",
       "      <td>Ukraine</td>\n",
       "      <td>4.332</td>\n",
       "      <td>0.82</td>\n",
       "      <td>1.39</td>\n",
       "      <td>0.739</td>\n",
       "      <td>0.178</td>\n",
       "      <td>0.187</td>\n",
       "      <td>0.01</td>\n",
       "      <td>2019</td>\n",
       "    </tr>\n",
       "  </tbody>\n",
       "</table>\n",
       "</div>"
      ],
      "text/plain": [
       "     Happiness_Rank  Country  Happiness_Score  Economy(GDP_per_Capita)  \\\n",
       "132             133  Ukraine            4.332                     0.82   \n",
       "\n",
       "     Social_support  Health_(Life_Expectancy)  Freedom  Generosity  \\\n",
       "132            1.39                     0.739    0.178       0.187   \n",
       "\n",
       "     Perceptions_of_corruption  Year  \n",
       "132                       0.01  2019  "
      ]
     },
     "execution_count": 448,
     "metadata": {},
     "output_type": "execute_result"
    }
   ],
   "source": [
    "#sample after renaming\n",
    "df_2019.sample()"
   ]
  },
  {
   "cell_type": "code",
   "execution_count": 449,
   "id": "33827863",
   "metadata": {
    "scrolled": true
   },
   "outputs": [
    {
     "data": {
      "text/html": [
       "<div>\n",
       "<style scoped>\n",
       "    .dataframe tbody tr th:only-of-type {\n",
       "        vertical-align: middle;\n",
       "    }\n",
       "\n",
       "    .dataframe tbody tr th {\n",
       "        vertical-align: top;\n",
       "    }\n",
       "\n",
       "    .dataframe thead th {\n",
       "        text-align: right;\n",
       "    }\n",
       "</style>\n",
       "<table border=\"1\" class=\"dataframe\">\n",
       "  <thead>\n",
       "    <tr style=\"text-align: right;\">\n",
       "      <th></th>\n",
       "      <th>Happiness_Rank</th>\n",
       "      <th>Country</th>\n",
       "      <th>Happiness_Score</th>\n",
       "      <th>Economy(GDP_per_Capita)</th>\n",
       "      <th>Health_(Life_Expectancy)</th>\n",
       "      <th>Freedom</th>\n",
       "      <th>Generosity</th>\n",
       "      <th>Year</th>\n",
       "    </tr>\n",
       "  </thead>\n",
       "  <tbody>\n",
       "    <tr>\n",
       "      <th>0</th>\n",
       "      <td>1</td>\n",
       "      <td>Finland</td>\n",
       "      <td>7.769</td>\n",
       "      <td>1.340</td>\n",
       "      <td>0.986</td>\n",
       "      <td>0.596</td>\n",
       "      <td>0.153</td>\n",
       "      <td>2019</td>\n",
       "    </tr>\n",
       "    <tr>\n",
       "      <th>1</th>\n",
       "      <td>2</td>\n",
       "      <td>Denmark</td>\n",
       "      <td>7.600</td>\n",
       "      <td>1.383</td>\n",
       "      <td>0.996</td>\n",
       "      <td>0.592</td>\n",
       "      <td>0.252</td>\n",
       "      <td>2019</td>\n",
       "    </tr>\n",
       "  </tbody>\n",
       "</table>\n",
       "</div>"
      ],
      "text/plain": [
       "   Happiness_Rank  Country  Happiness_Score  Economy(GDP_per_Capita)  \\\n",
       "0               1  Finland            7.769                    1.340   \n",
       "1               2  Denmark            7.600                    1.383   \n",
       "\n",
       "   Health_(Life_Expectancy)  Freedom  Generosity  Year  \n",
       "0                     0.986    0.596       0.153  2019  \n",
       "1                     0.996    0.592       0.252  2019  "
      ]
     },
     "execution_count": 449,
     "metadata": {},
     "output_type": "execute_result"
    }
   ],
   "source": [
    "#locating similar columns\n",
    "new_2019 = df_2019.iloc[:, [0,1,2,3,5,6,7,9]]\n",
    "new_2019.head(2)"
   ]
  },
  {
   "cell_type": "markdown",
   "id": "0b392720",
   "metadata": {},
   "source": [
    "## Concatenating all the dataset"
   ]
  },
  {
   "cell_type": "code",
   "execution_count": 450,
   "id": "be61ce72",
   "metadata": {
    "scrolled": true
   },
   "outputs": [
    {
     "data": {
      "text/html": [
       "<div>\n",
       "<style scoped>\n",
       "    .dataframe tbody tr th:only-of-type {\n",
       "        vertical-align: middle;\n",
       "    }\n",
       "\n",
       "    .dataframe tbody tr th {\n",
       "        vertical-align: top;\n",
       "    }\n",
       "\n",
       "    .dataframe thead th {\n",
       "        text-align: right;\n",
       "    }\n",
       "</style>\n",
       "<table border=\"1\" class=\"dataframe\">\n",
       "  <thead>\n",
       "    <tr style=\"text-align: right;\">\n",
       "      <th></th>\n",
       "      <th>Country</th>\n",
       "      <th>Happiness_Rank</th>\n",
       "      <th>Happiness_Score</th>\n",
       "      <th>Economy(GDP_per_Capita)</th>\n",
       "      <th>Health_(Life_Expectancy)</th>\n",
       "      <th>Freedom</th>\n",
       "      <th>Generosity</th>\n",
       "      <th>Year</th>\n",
       "    </tr>\n",
       "  </thead>\n",
       "  <tbody>\n",
       "    <tr>\n",
       "      <th>0</th>\n",
       "      <td>Switzerland</td>\n",
       "      <td>1</td>\n",
       "      <td>7.587</td>\n",
       "      <td>1.39651</td>\n",
       "      <td>0.94143</td>\n",
       "      <td>0.66557</td>\n",
       "      <td>0.29678</td>\n",
       "      <td>2015</td>\n",
       "    </tr>\n",
       "    <tr>\n",
       "      <th>1</th>\n",
       "      <td>Iceland</td>\n",
       "      <td>2</td>\n",
       "      <td>7.561</td>\n",
       "      <td>1.30232</td>\n",
       "      <td>0.94784</td>\n",
       "      <td>0.62877</td>\n",
       "      <td>0.43630</td>\n",
       "      <td>2015</td>\n",
       "    </tr>\n",
       "    <tr>\n",
       "      <th>2</th>\n",
       "      <td>Denmark</td>\n",
       "      <td>3</td>\n",
       "      <td>7.527</td>\n",
       "      <td>1.32548</td>\n",
       "      <td>0.87464</td>\n",
       "      <td>0.64938</td>\n",
       "      <td>0.34139</td>\n",
       "      <td>2015</td>\n",
       "    </tr>\n",
       "    <tr>\n",
       "      <th>3</th>\n",
       "      <td>Norway</td>\n",
       "      <td>4</td>\n",
       "      <td>7.522</td>\n",
       "      <td>1.45900</td>\n",
       "      <td>0.88521</td>\n",
       "      <td>0.66973</td>\n",
       "      <td>0.34699</td>\n",
       "      <td>2015</td>\n",
       "    </tr>\n",
       "    <tr>\n",
       "      <th>4</th>\n",
       "      <td>Canada</td>\n",
       "      <td>5</td>\n",
       "      <td>7.427</td>\n",
       "      <td>1.32629</td>\n",
       "      <td>0.90563</td>\n",
       "      <td>0.63297</td>\n",
       "      <td>0.45811</td>\n",
       "      <td>2015</td>\n",
       "    </tr>\n",
       "    <tr>\n",
       "      <th>...</th>\n",
       "      <td>...</td>\n",
       "      <td>...</td>\n",
       "      <td>...</td>\n",
       "      <td>...</td>\n",
       "      <td>...</td>\n",
       "      <td>...</td>\n",
       "      <td>...</td>\n",
       "      <td>...</td>\n",
       "    </tr>\n",
       "    <tr>\n",
       "      <th>151</th>\n",
       "      <td>Rwanda</td>\n",
       "      <td>152</td>\n",
       "      <td>3.334</td>\n",
       "      <td>0.35900</td>\n",
       "      <td>0.61400</td>\n",
       "      <td>0.55500</td>\n",
       "      <td>0.21700</td>\n",
       "      <td>2019</td>\n",
       "    </tr>\n",
       "    <tr>\n",
       "      <th>152</th>\n",
       "      <td>Tanzania</td>\n",
       "      <td>153</td>\n",
       "      <td>3.231</td>\n",
       "      <td>0.47600</td>\n",
       "      <td>0.49900</td>\n",
       "      <td>0.41700</td>\n",
       "      <td>0.27600</td>\n",
       "      <td>2019</td>\n",
       "    </tr>\n",
       "    <tr>\n",
       "      <th>153</th>\n",
       "      <td>Afghanistan</td>\n",
       "      <td>154</td>\n",
       "      <td>3.203</td>\n",
       "      <td>0.35000</td>\n",
       "      <td>0.36100</td>\n",
       "      <td>0.00000</td>\n",
       "      <td>0.15800</td>\n",
       "      <td>2019</td>\n",
       "    </tr>\n",
       "    <tr>\n",
       "      <th>154</th>\n",
       "      <td>Central African Republic</td>\n",
       "      <td>155</td>\n",
       "      <td>3.083</td>\n",
       "      <td>0.02600</td>\n",
       "      <td>0.10500</td>\n",
       "      <td>0.22500</td>\n",
       "      <td>0.23500</td>\n",
       "      <td>2019</td>\n",
       "    </tr>\n",
       "    <tr>\n",
       "      <th>155</th>\n",
       "      <td>South Sudan</td>\n",
       "      <td>156</td>\n",
       "      <td>2.853</td>\n",
       "      <td>0.30600</td>\n",
       "      <td>0.29500</td>\n",
       "      <td>0.01000</td>\n",
       "      <td>0.20200</td>\n",
       "      <td>2019</td>\n",
       "    </tr>\n",
       "  </tbody>\n",
       "</table>\n",
       "<p>782 rows × 8 columns</p>\n",
       "</div>"
      ],
      "text/plain": [
       "                      Country  Happiness_Rank  Happiness_Score  \\\n",
       "0                 Switzerland               1            7.587   \n",
       "1                     Iceland               2            7.561   \n",
       "2                     Denmark               3            7.527   \n",
       "3                      Norway               4            7.522   \n",
       "4                      Canada               5            7.427   \n",
       "..                        ...             ...              ...   \n",
       "151                    Rwanda             152            3.334   \n",
       "152                  Tanzania             153            3.231   \n",
       "153               Afghanistan             154            3.203   \n",
       "154  Central African Republic             155            3.083   \n",
       "155               South Sudan             156            2.853   \n",
       "\n",
       "     Economy(GDP_per_Capita)  Health_(Life_Expectancy)  Freedom  Generosity  \\\n",
       "0                    1.39651                   0.94143  0.66557     0.29678   \n",
       "1                    1.30232                   0.94784  0.62877     0.43630   \n",
       "2                    1.32548                   0.87464  0.64938     0.34139   \n",
       "3                    1.45900                   0.88521  0.66973     0.34699   \n",
       "4                    1.32629                   0.90563  0.63297     0.45811   \n",
       "..                       ...                       ...      ...         ...   \n",
       "151                  0.35900                   0.61400  0.55500     0.21700   \n",
       "152                  0.47600                   0.49900  0.41700     0.27600   \n",
       "153                  0.35000                   0.36100  0.00000     0.15800   \n",
       "154                  0.02600                   0.10500  0.22500     0.23500   \n",
       "155                  0.30600                   0.29500  0.01000     0.20200   \n",
       "\n",
       "     Year  \n",
       "0    2015  \n",
       "1    2015  \n",
       "2    2015  \n",
       "3    2015  \n",
       "4    2015  \n",
       "..    ...  \n",
       "151  2019  \n",
       "152  2019  \n",
       "153  2019  \n",
       "154  2019  \n",
       "155  2019  \n",
       "\n",
       "[782 rows x 8 columns]"
      ]
     },
     "execution_count": 450,
     "metadata": {},
     "output_type": "execute_result"
    }
   ],
   "source": [
    "df = pd.concat([new_2015, new_2016, new_2017, new_2018, new_2019], axis = 0)\n",
    "df"
   ]
  },
  {
   "cell_type": "code",
   "execution_count": 451,
   "id": "699935aa",
   "metadata": {},
   "outputs": [
    {
     "data": {
      "text/plain": [
       "Country                     0\n",
       "Happiness_Rank              0\n",
       "Happiness_Score             0\n",
       "Economy(GDP_per_Capita)     0\n",
       "Health_(Life_Expectancy)    0\n",
       "Freedom                     0\n",
       "Generosity                  0\n",
       "Year                        0\n",
       "dtype: int64"
      ]
     },
     "execution_count": 451,
     "metadata": {},
     "output_type": "execute_result"
    }
   ],
   "source": [
    "#confirming if there's any null values\n",
    "#checking null values\n",
    "df.isnull().sum()"
   ]
  },
  {
   "cell_type": "markdown",
   "id": "3d43d5ae",
   "metadata": {},
   "source": [
    "## <span style='color: blue'> Question 1. Which country is the happiest in the world?"
   ]
  },
  {
   "cell_type": "code",
   "execution_count": 452,
   "id": "a9cc1ae1",
   "metadata": {
    "scrolled": true
   },
   "outputs": [
    {
     "data": {
      "text/html": [
       "<div>\n",
       "<style scoped>\n",
       "    .dataframe tbody tr th:only-of-type {\n",
       "        vertical-align: middle;\n",
       "    }\n",
       "\n",
       "    .dataframe tbody tr th {\n",
       "        vertical-align: top;\n",
       "    }\n",
       "\n",
       "    .dataframe thead th {\n",
       "        text-align: right;\n",
       "    }\n",
       "</style>\n",
       "<table border=\"1\" class=\"dataframe\">\n",
       "  <thead>\n",
       "    <tr style=\"text-align: right;\">\n",
       "      <th></th>\n",
       "      <th>Country</th>\n",
       "      <th>Happiness_Rank</th>\n",
       "    </tr>\n",
       "  </thead>\n",
       "  <tbody>\n",
       "    <tr>\n",
       "      <th>0</th>\n",
       "      <td>Burundi</td>\n",
       "      <td>769</td>\n",
       "    </tr>\n",
       "    <tr>\n",
       "      <th>1</th>\n",
       "      <td>Syria</td>\n",
       "      <td>763</td>\n",
       "    </tr>\n",
       "    <tr>\n",
       "      <th>2</th>\n",
       "      <td>Rwanda</td>\n",
       "      <td>760</td>\n",
       "    </tr>\n",
       "    <tr>\n",
       "      <th>3</th>\n",
       "      <td>Tanzania</td>\n",
       "      <td>754</td>\n",
       "    </tr>\n",
       "    <tr>\n",
       "      <th>4</th>\n",
       "      <td>Afghanistan</td>\n",
       "      <td>747</td>\n",
       "    </tr>\n",
       "    <tr>\n",
       "      <th>...</th>\n",
       "      <td>...</td>\n",
       "      <td>...</td>\n",
       "    </tr>\n",
       "    <tr>\n",
       "      <th>165</th>\n",
       "      <td>Finland</td>\n",
       "      <td>18</td>\n",
       "    </tr>\n",
       "    <tr>\n",
       "      <th>166</th>\n",
       "      <td>Iceland</td>\n",
       "      <td>16</td>\n",
       "    </tr>\n",
       "    <tr>\n",
       "      <th>167</th>\n",
       "      <td>Puerto Rico</td>\n",
       "      <td>15</td>\n",
       "    </tr>\n",
       "    <tr>\n",
       "      <th>168</th>\n",
       "      <td>Norway</td>\n",
       "      <td>14</td>\n",
       "    </tr>\n",
       "    <tr>\n",
       "      <th>169</th>\n",
       "      <td>Denmark</td>\n",
       "      <td>11</td>\n",
       "    </tr>\n",
       "  </tbody>\n",
       "</table>\n",
       "<p>170 rows × 2 columns</p>\n",
       "</div>"
      ],
      "text/plain": [
       "         Country  Happiness_Rank\n",
       "0        Burundi             769\n",
       "1          Syria             763\n",
       "2         Rwanda             760\n",
       "3       Tanzania             754\n",
       "4    Afghanistan             747\n",
       "..           ...             ...\n",
       "165      Finland              18\n",
       "166      Iceland              16\n",
       "167  Puerto Rico              15\n",
       "168       Norway              14\n",
       "169      Denmark              11\n",
       "\n",
       "[170 rows x 2 columns]"
      ]
     },
     "execution_count": 452,
     "metadata": {},
     "output_type": "execute_result"
    }
   ],
   "source": [
    "#grouping by countries and happiness rank to see the countries in descending order\n",
    "happiest_c= df.groupby('Country')['Happiness_Rank'].sum()\n",
    "happiest_country = happiest_c.sort_values(ascending=False).reset_index()\n",
    "happiest_country"
   ]
  },
  {
   "cell_type": "code",
   "execution_count": 453,
   "id": "5ef0ec74",
   "metadata": {
    "scrolled": true
   },
   "outputs": [
    {
     "data": {
      "text/html": [
       "<div>\n",
       "<style scoped>\n",
       "    .dataframe tbody tr th:only-of-type {\n",
       "        vertical-align: middle;\n",
       "    }\n",
       "\n",
       "    .dataframe tbody tr th {\n",
       "        vertical-align: top;\n",
       "    }\n",
       "\n",
       "    .dataframe thead th {\n",
       "        text-align: right;\n",
       "    }\n",
       "</style>\n",
       "<table border=\"1\" class=\"dataframe\">\n",
       "  <thead>\n",
       "    <tr style=\"text-align: right;\">\n",
       "      <th></th>\n",
       "      <th>Country</th>\n",
       "      <th>Happiness_Rank</th>\n",
       "    </tr>\n",
       "  </thead>\n",
       "  <tbody>\n",
       "    <tr>\n",
       "      <th>0</th>\n",
       "      <td>Burundi</td>\n",
       "      <td>769</td>\n",
       "    </tr>\n",
       "    <tr>\n",
       "      <th>1</th>\n",
       "      <td>Syria</td>\n",
       "      <td>763</td>\n",
       "    </tr>\n",
       "    <tr>\n",
       "      <th>2</th>\n",
       "      <td>Rwanda</td>\n",
       "      <td>760</td>\n",
       "    </tr>\n",
       "    <tr>\n",
       "      <th>3</th>\n",
       "      <td>Tanzania</td>\n",
       "      <td>754</td>\n",
       "    </tr>\n",
       "    <tr>\n",
       "      <th>4</th>\n",
       "      <td>Afghanistan</td>\n",
       "      <td>747</td>\n",
       "    </tr>\n",
       "  </tbody>\n",
       "</table>\n",
       "</div>"
      ],
      "text/plain": [
       "       Country  Happiness_Rank\n",
       "0      Burundi             769\n",
       "1        Syria             763\n",
       "2       Rwanda             760\n",
       "3     Tanzania             754\n",
       "4  Afghanistan             747"
      ]
     },
     "execution_count": 453,
     "metadata": {},
     "output_type": "execute_result"
    }
   ],
   "source": [
    "#selecting the top five countries \n",
    "top_happiest_countries = happiest_country.head(5)\n",
    "top_happiest_countries"
   ]
  },
  {
   "cell_type": "code",
   "execution_count": 454,
   "id": "397e1fbc",
   "metadata": {
    "scrolled": true
   },
   "outputs": [
    {
     "data": {
      "image/png": "[encoded data removed]",
      "text/plain": [
       "<Figure size 720x432 with 1 Axes>"
      ]
     },
     "metadata": {
      "needs_background": "light"
     },
     "output_type": "display_data"
    }
   ],
   "source": [
    "# plot the results\n",
    "plt.figure(figsize=(10,6))\n",
    "sns.barplot(data = top_happiest_countries, x= 'Country', y ='Happiness_Rank', palette = 'winter_r', linewidth = 0.4)\n",
    "\n",
    "#setting the properties for the chart\n",
    "plt.title('the top 5 happiest countries', fontsize = 15)\n",
    "plt.xlabel('countries')\n",
    "plt.ylabel('happiness rank')\n",
    "plt.show()"
   ]
  },
  {
   "cell_type": "markdown",
   "id": "4aacce45",
   "metadata": {},
   "source": [
    "## <span style='color: blue'> Question 2. What are the most important contributing factors to a nation’s happiness?"
   ]
  },
  {
   "cell_type": "code",
   "execution_count": 455,
   "id": "942817b6",
   "metadata": {},
   "outputs": [
    {
     "data": {
      "image/png": "[encoded data removed]",
      "text/plain": [
       "<Figure size 720x720 with 2 Axes>"
      ]
     },
     "metadata": {
      "needs_background": "light"
     },
     "output_type": "display_data"
    }
   ],
   "source": [
    "fig = plt.figure(figsize=(10,10))\n",
    "sns.heatmap(df.corr(),linecolor='white', annot= True, linewidths = 2)\n",
    "plt.title('correlations heatmap for the tips', fontsize= 12)\n",
    "plt.show()"
   ]
  },
  {
   "cell_type": "markdown",
   "id": "78828377",
   "metadata": {},
   "source": [
    "- The major contributor to the nation's happiness includes `Freedom`, `Health Life Expectancy` and `Economy GDP` which has a positive correleration(highest) with `Happiness Score`"
   ]
  },
  {
   "cell_type": "markdown",
   "id": "720e16d5",
   "metadata": {},
   "source": [
    "## <span style='color: blue'> Question 3. Is overall happiness increasing or decreasing?"
   ]
  },
  {
   "cell_type": "code",
   "execution_count": 456,
   "id": "c8f8db08",
   "metadata": {},
   "outputs": [],
   "source": [
    "#changing the year datatype to str\n",
    "df['Year'] = df['Year'].astype(str)"
   ]
  },
  {
   "cell_type": "code",
   "execution_count": 457,
   "id": "02b6678c",
   "metadata": {
    "scrolled": true
   },
   "outputs": [
    {
     "data": {
      "text/html": [
       "<div>\n",
       "<style scoped>\n",
       "    .dataframe tbody tr th:only-of-type {\n",
       "        vertical-align: middle;\n",
       "    }\n",
       "\n",
       "    .dataframe tbody tr th {\n",
       "        vertical-align: top;\n",
       "    }\n",
       "\n",
       "    .dataframe thead th {\n",
       "        text-align: right;\n",
       "    }\n",
       "</style>\n",
       "<table border=\"1\" class=\"dataframe\">\n",
       "  <thead>\n",
       "    <tr style=\"text-align: right;\">\n",
       "      <th></th>\n",
       "      <th>Year</th>\n",
       "      <th>Happiness_Score</th>\n",
       "    </tr>\n",
       "  </thead>\n",
       "  <tbody>\n",
       "    <tr>\n",
       "      <th>0</th>\n",
       "      <td>2015</td>\n",
       "      <td>5.375734</td>\n",
       "    </tr>\n",
       "    <tr>\n",
       "      <th>1</th>\n",
       "      <td>2016</td>\n",
       "      <td>5.382185</td>\n",
       "    </tr>\n",
       "    <tr>\n",
       "      <th>2</th>\n",
       "      <td>2017</td>\n",
       "      <td>5.354019</td>\n",
       "    </tr>\n",
       "    <tr>\n",
       "      <th>3</th>\n",
       "      <td>2018</td>\n",
       "      <td>5.375917</td>\n",
       "    </tr>\n",
       "    <tr>\n",
       "      <th>4</th>\n",
       "      <td>2019</td>\n",
       "      <td>5.407096</td>\n",
       "    </tr>\n",
       "  </tbody>\n",
       "</table>\n",
       "</div>"
      ],
      "text/plain": [
       "   Year  Happiness_Score\n",
       "0  2015         5.375734\n",
       "1  2016         5.382185\n",
       "2  2017         5.354019\n",
       "3  2018         5.375917\n",
       "4  2019         5.407096"
      ]
     },
     "execution_count": 457,
     "metadata": {},
     "output_type": "execute_result"
    }
   ],
   "source": [
    "#grouping happiness score by year to determine if its decreasing by year or not\n",
    "df_happiness = df.groupby('Year')['Happiness_Score'].mean().reset_index()\n",
    "df_happiness"
   ]
  },
  {
   "cell_type": "code",
   "execution_count": 458,
   "id": "29493237",
   "metadata": {},
   "outputs": [
    {
     "data": {
      "image/png": "[encoded data removed]",
      "text/plain": [
       "<Figure size 1080x360 with 1 Axes>"
      ]
     },
     "metadata": {
      "needs_background": "light"
     },
     "output_type": "display_data"
    }
   ],
   "source": [
    "#Plotting the chart\n",
    "fig = plt.figure(figsize=(15,5))\n",
    "sns.lineplot(data =df_happiness, y = 'Happiness_Score', x = 'Year', color = 'blue',  linewidth=3, marker='o', markersize=10)\n",
    "\n",
    "#setting the properties for the chart\n",
    "plt.title('average overall happiness', fontsize = 10)\n",
    "plt.xlabel('year')\n",
    "plt.ylabel('average happiness score')\n",
    "plt.show()"
   ]
  },
  {
   "cell_type": "markdown",
   "id": "3ef450c6",
   "metadata": {},
   "source": [
    "- From the chart above, it can be seen that there was a gradual increase in happiness from 2015 to 2016, thereafter, there was a drastic fall in happiness in 2017 before it picked up again."
   ]
  },
  {
   "cell_type": "code",
   "execution_count": null,
   "id": "3c07ddbd",
   "metadata": {},
   "outputs": [],
   "source": []
  }
 ],
 "metadata": {
  "kernelspec": {
   "display_name": "Python 3 (ipykernel)",
   "language": "python",
   "name": "python3"
  },
  "language_info": {
   "codemirror_mode": {
    "name": "ipython",
    "version": 3
   },
   "file_extension": ".py",
   "mimetype": "text/x-python",
   "name": "python",
   "nbconvert_exporter": "python",
   "pygments_lexer": "ipython3",
   "version": "3.9.12"
  }
 },
 "nbformat": 4,
 "nbformat_minor": 5
}
